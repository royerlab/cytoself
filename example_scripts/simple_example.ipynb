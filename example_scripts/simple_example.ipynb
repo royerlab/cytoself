{
 "cells": [
  {
   "cell_type": "markdown",
   "source": [
    "# Running cytoself in Colab\n",
    "\n",
    "[![Open In Colab](https://colab.research.google.com/assets/colab-badge.svg)](https://colab.research.google.com/github/royerlab/cytoself/blob/main/example_scripts/simple_example.ipynb)\n",
    "\n",
    "## Introduction\n",
    "This jupyter notebook shows a simple example of how to use cytoself with a few example images and pre-trained model.\n",
    "Please note that this notebook is only to demonstrate how to run cytoself, and the example data offered here is too small to train a usable model.\n",
    "You won't be able to see reasonable training results from this notebook.\n",
    "To train a better cytoself model, please download more data from [**Data Availability**](https://github.com/royerlab/cytoself#data-availability).\n",
    "\n",
    "\n",
    "## Example demo\n",
    "\n",
    "Let's get started with a simple example.\n",
    "\n",
    "Note: In case an error occurs, which is observed occasionally, please be patient and try to run the cell again. If the error persists, please try to restart the runtime.\n",
    "\n",
    "### 0. Prepare environment (required for Google Colab)"
   ],
   "metadata": {
    "collapsed": false
   }
  },
  {
   "cell_type": "code",
   "execution_count": null,
   "outputs": [],
   "source": [
    "#install python 3.9\n",
    "!sudo apt-get update -y\n",
    "!sudo apt-get install python3.9\n",
    "!wget https://bootstrap.pypa.io/get-pip.py\n",
    "!python3.9 get-pip.py\n",
    "\n",
    "#change alternatives\n",
    "!sudo update-alternatives --install /usr/bin/python3 python3 /usr/bin/python3.8 1\n",
    "!sudo update-alternatives --install /usr/bin/python3 python3 /usr/bin/python3.9 2\n",
    "\n",
    "!pip install --upgrade git+https://github.com/royerlab/cytoself.git"
   ],
   "metadata": {
    "collapsed": false
   }
  },
  {
   "cell_type": "markdown",
   "source": [
    "### 1. Prepare data"
   ],
   "metadata": {
    "collapsed": false
   }
  },
  {
   "cell_type": "code",
   "execution_count": null,
   "outputs": [],
   "source": [
    "from os.path import join\n",
    "import numpy as np\n",
    "import torch\n",
    "import matplotlib.pyplot as plt\n",
    "\n",
    "from cytoself.datamanager.opencell import DataManagerOpenCell\n",
    "from cytoself.trainer.cytoselflite_trainer import CytoselfFullTrainer\n",
    "from cytoself.analysis.analysis_opencell import AnalysisOpenCell\n",
    "from cytoself.trainer.utils.plot_history import plot_history_cytoself\n",
    "\n",
    "data_ch = ['pro', 'nuc']\n",
    "datapath = 'sample_data'  # path to download sample data\n",
    "DataManagerOpenCell.download_sample_data(datapath)  # donwload data\n",
    "datamanager = DataManagerOpenCell(datapath, data_ch, fov_col=None)\n",
    "datamanager.const_dataloader(batch_size=32, label_name_position=1)"
   ],
   "metadata": {
    "collapsed": false
   }
  },
  {
   "cell_type": "markdown",
   "source": [
    "### 2. Create and train a cytoself model"
   ],
   "metadata": {
    "collapsed": false
   }
  },
  {
   "cell_type": "code",
   "execution_count": null,
   "outputs": [],
   "source": [
    "model_args = {\n",
    "    'input_shape': (2, 100, 100),\n",
    "    'emb_shapes': ((25, 25), (4, 4)),\n",
    "    'output_shape': (2, 100, 100),\n",
    "    'fc_output_idx': [2],\n",
    "    'vq_args': {'num_embeddings': 512, 'embedding_dim': 64},\n",
    "    'num_class': len(datamanager.unique_labels),\n",
    "    'fc_input_type': 'vqvec',\n",
    "}\n",
    "train_args = {\n",
    "    'lr': 1e-3,\n",
    "    'max_epoch': 1,\n",
    "    'reducelr_patience': 3,\n",
    "    'reducelr_increment': 0.1,\n",
    "    'earlystop_patience': 6,\n",
    "}\n",
    "trainer = CytoselfFullTrainer(train_args, homepath='demo_output', model_args=model_args)\n",
    "trainer.fit(datamanager, tensorboard_path='tb_logs')"
   ],
   "metadata": {
    "collapsed": false
   }
  },
  {
   "cell_type": "markdown",
   "source": [
    "### 2.1 Generate training history"
   ],
   "metadata": {
    "collapsed": false
   }
  },
  {
   "cell_type": "code",
   "execution_count": null,
   "outputs": [],
   "source": [
    "plot_history_cytoself(trainer.history, savepath=trainer.savepath_dict['visualization'])"
   ],
   "metadata": {
    "collapsed": false
   }
  },
  {
   "cell_type": "markdown",
   "source": [
    "### 2.2 Compare the reconstructed images as a sanity check"
   ],
   "metadata": {
    "collapsed": false
   }
  },
  {
   "cell_type": "code",
   "execution_count": null,
   "outputs": [],
   "source": [
    "img = next(iter(datamanager.test_loader))['image'].detach().cpu().numpy()\n",
    "torch.cuda.empty_cache()\n",
    "reconstructed = trainer.infer_reconstruction(img)\n",
    "fig, ax = plt.subplots(2, len(data_ch), figsize=(5 * len(data_ch), 5), squeeze=False)\n",
    "for ii, ch in enumerate(data_ch):\n",
    "    t0 = np.zeros((2 * 100, 5 * 100))\n",
    "    for i, im in enumerate(img[:10, ii, ...]):\n",
    "        i0, i1 = np.unravel_index(i, (2, 5))\n",
    "        t0[i0 * 100 : (i0 + 1) * 100, i1 * 100 : (i1 + 1) * 100] = im\n",
    "    t1 = np.zeros((2 * 100, 5 * 100))\n",
    "    for i, im in enumerate(reconstructed[:10, ii, ...]):\n",
    "        i0, i1 = np.unravel_index(i, (2, 5))\n",
    "        t1[i0 * 100 : (i0 + 1) * 100, i1 * 100 : (i1 + 1) * 100] = im\n",
    "    ax[0, ii].imshow(t0, cmap='gray')\n",
    "    ax[0, ii].axis('off')\n",
    "    ax[0, ii].set_title('input ' + ch)\n",
    "    ax[1, ii].imshow(t1, cmap='gray')\n",
    "    ax[1, ii].axis('off')\n",
    "    ax[1, ii].set_title('output ' + ch)\n",
    "fig.tight_layout()\n",
    "fig.show()\n",
    "fig.savefig(join(trainer.savepath_dict['visualization'], 'reconstructed_images.png'), dpi=300)"
   ],
   "metadata": {
    "collapsed": false
   }
  },
  {
   "cell_type": "markdown",
   "source": [
    "### 3. Analyze embeddings"
   ],
   "metadata": {
    "collapsed": false
   }
  },
  {
   "cell_type": "code",
   "execution_count": null,
   "outputs": [],
   "source": [
    "analysis = AnalysisOpenCell(datamanager, trainer)"
   ],
   "metadata": {
    "collapsed": false
   }
  },
  {
   "cell_type": "markdown",
   "source": [
    "### 3.1 Generate bi-clustering heatmap"
   ],
   "metadata": {
    "collapsed": false
   }
  },
  {
   "cell_type": "code",
   "execution_count": null,
   "outputs": [],
   "source": [
    "analysis.plot_clustermap(num_workers=4)"
   ],
   "metadata": {
    "collapsed": false
   }
  },
  {
   "cell_type": "markdown",
   "source": [
    "### 3.2 Generate feature spectrum"
   ],
   "metadata": {
    "collapsed": false
   }
  },
  {
   "cell_type": "code",
   "execution_count": null,
   "outputs": [],
   "source": [
    "vqindhist1 = trainer.infer_embeddings(img, 'vqindhist1')\n",
    "ft_spectrum = analysis.compute_feature_spectrum(vqindhist1)\n",
    "\n",
    "x_max = ft_spectrum.shape[1] + 1\n",
    "x_ticks = np.arange(0, x_max, 50)\n",
    "fig, ax = plt.subplots(figsize=(10, 3))\n",
    "ax.stairs(ft_spectrum[0], np.arange(x_max), fill=True)\n",
    "ax.spines[['right', 'top']].set_visible(False)\n",
    "ax.set_xlabel('Feature index')\n",
    "ax.set_ylabel('Counts')\n",
    "ax.set_xlim([0, x_max])\n",
    "ax.set_xticks(x_ticks, analysis.feature_spectrum_indices[x_ticks])\n",
    "fig.tight_layout()\n",
    "fig.show()\n",
    "fig.savefig(join(analysis.savepath_dict['feature_spectra_figures'], 'feature_spectrum.png'), dpi=300)"
   ],
   "metadata": {
    "collapsed": false
   }
  },
  {
   "cell_type": "markdown",
   "source": [
    "### 3.3 Plot UMAP"
   ],
   "metadata": {
    "collapsed": false
   }
  },
  {
   "cell_type": "code",
   "execution_count": null,
   "outputs": [],
   "source": [
    "umap_data = analysis.plot_umap_of_embedding_vector(\n",
    "    data_loader=datamanager.test_loader,\n",
    "    group_col=2,\n",
    "    output_layer=f'{model_args[\"fc_input_type\"]}2',\n",
    "    title=f'UMAP {model_args[\"fc_input_type\"]}2',\n",
    "    xlabel='UMAP1',\n",
    "    ylabel='UMAP2',\n",
    "    s=0.3,\n",
    "    alpha=0.5,\n",
    "    show_legend=True,\n",
    ")\n"
   ],
   "metadata": {
    "collapsed": false
   }
  },
  {
   "cell_type": "code",
   "execution_count": null,
   "outputs": [],
   "source": [],
   "metadata": {
    "collapsed": false
   }
  }
 ],
 "metadata": {
  "kernelspec": {
   "display_name": "Python 3",
   "language": "python",
   "name": "python3"
  },
  "language_info": {
   "codemirror_mode": {
    "name": "ipython",
    "version": 2
   },
   "file_extension": ".py",
   "mimetype": "text/x-python",
   "name": "python",
   "nbconvert_exporter": "python",
   "pygments_lexer": "ipython2",
   "version": "2.7.6"
  }
 },
 "nbformat": 4,
 "nbformat_minor": 0
}
